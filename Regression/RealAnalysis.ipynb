{
 "cells": [
  {
   "cell_type": "code",
   "execution_count": 1,
   "metadata": {},
   "outputs": [
    {
     "ename": "ModuleNotFoundError",
     "evalue": "No module named 'statsmodels'",
     "output_type": "error",
     "traceback": [
      "\u001b[0;31m---------------------------------------------------------------------------\u001b[0m",
      "\u001b[0;31mModuleNotFoundError\u001b[0m                       Traceback (most recent call last)",
      "\u001b[1;32m/workspaces/research/Regression/RealAnalysis.ipynb Cell 1\u001b[0m line \u001b[0;36m3\n\u001b[1;32m      <a href='vscode-notebook-cell://codespaces%2Bfantastic-garbanzo-pjjrqx97prg9hj94/workspaces/research/Regression/RealAnalysis.ipynb#W0sdnNjb2RlLXJlbW90ZQ%3D%3D?line=0'>1</a>\u001b[0m \u001b[39mimport\u001b[39;00m \u001b[39mnumpy\u001b[39;00m \u001b[39mas\u001b[39;00m \u001b[39mnp\u001b[39;00m\n\u001b[1;32m      <a href='vscode-notebook-cell://codespaces%2Bfantastic-garbanzo-pjjrqx97prg9hj94/workspaces/research/Regression/RealAnalysis.ipynb#W0sdnNjb2RlLXJlbW90ZQ%3D%3D?line=1'>2</a>\u001b[0m \u001b[39mimport\u001b[39;00m \u001b[39mpandas\u001b[39;00m \u001b[39mas\u001b[39;00m \u001b[39mpd\u001b[39;00m\n\u001b[0;32m----> <a href='vscode-notebook-cell://codespaces%2Bfantastic-garbanzo-pjjrqx97prg9hj94/workspaces/research/Regression/RealAnalysis.ipynb#W0sdnNjb2RlLXJlbW90ZQ%3D%3D?line=2'>3</a>\u001b[0m \u001b[39mimport\u001b[39;00m \u001b[39mstatsmodels\u001b[39;00m\u001b[39m.\u001b[39;00m\u001b[39mapi\u001b[39;00m \u001b[39mas\u001b[39;00m \u001b[39msm\u001b[39;00m\n\u001b[1;32m      <a href='vscode-notebook-cell://codespaces%2Bfantastic-garbanzo-pjjrqx97prg9hj94/workspaces/research/Regression/RealAnalysis.ipynb#W0sdnNjb2RlLXJlbW90ZQ%3D%3D?line=3'>4</a>\u001b[0m \u001b[39mimport\u001b[39;00m \u001b[39mseaborn\u001b[39;00m \u001b[39mas\u001b[39;00m \u001b[39msns\u001b[39;00m\n\u001b[1;32m      <a href='vscode-notebook-cell://codespaces%2Bfantastic-garbanzo-pjjrqx97prg9hj94/workspaces/research/Regression/RealAnalysis.ipynb#W0sdnNjb2RlLXJlbW90ZQ%3D%3D?line=4'>5</a>\u001b[0m \u001b[39mimport\u001b[39;00m \u001b[39mmatplotlib\u001b[39;00m\u001b[39m.\u001b[39;00m\u001b[39mpyplot\u001b[39;00m \u001b[39mas\u001b[39;00m \u001b[39mplt\u001b[39;00m\n",
      "\u001b[0;31mModuleNotFoundError\u001b[0m: No module named 'statsmodels'"
     ]
    }
   ],
   "source": [
    "import numpy as np\n",
    "import pandas as pd\n",
    "import statsmodels.api as sm\n",
    "import seaborn as sns\n",
    "import matplotlib.pyplot as plt\n",
    "\n",
    "maindata = pd.read_excel(\"/workspaces/research/Regression/Metrics Research Project Extracted Data (1).xlsx\")\n",
    "maindata.columns = ['Taxes_Levied', 'Florida_Resident_Population', 'Florida_Housing_Price_Index', 'Mortgage_Rates']\n",
    "maindata = maindata.apply(pd.to_numeric)\n",
    "maindata['Taxes_Levied'] = maindata['Taxes_Levied'].astype(float)\n",
    "\n",
    "# Calculate the mean and standard deviation of dependent variable\n",
    "mean_taxes_levied = np.mean(maindata['Taxes_Levied'])\n",
    "std_taxes_levied = np.std(maindata['Taxes_Levied'])\n",
    "\n",
    "# Calculate the mean and standard deviation of each independent variable\n",
    "mean_mortgage_rate = np.mean(maindata['Mortgage_Rates'])\n",
    "std_mortgage_rate = np.std(maindata['Mortgage_Rates'])\n",
    "\n",
    "mean_housing_price_index = np.mean(maindata['Florida_Housing_Price_Index'])\n",
    "std_housing_price_index = np.std(maindata['Florida_Housing_Price_Index'])\n",
    "\n",
    "mean_population = np.mean(maindata['Florida_Resident_Population'])\n",
    "std_population = np.std(maindata['Florida_Resident_Population'])\n",
    "\n",
    "# Normalize the data\n",
    "normalized_Taxes_Levied = (maindata['Taxes_Levied'] - mean_taxes_levied) / std_taxes_levied\n",
    "normalized_mortgage_rates = (maindata['Mortgage_Rates'] - mean_mortgage_rate) / std_mortgage_rate\n",
    "normalized_housing_price_index = (maindata['Florida_Housing_Price_Index'] - mean_housing_price_index) / std_housing_price_index\n",
    "normalized_population = (maindata['Florida_Resident_Population'] - mean_population) / std_population\n",
    "\n",
    "# Create a NumPy array of the normalized independent variables and add intercept\n",
    "X = np.column_stack((np.ones(len(maindata)), normalized_mortgage_rates, normalized_housing_price_index, normalized_population))\n",
    "X_df = pd.DataFrame(X, columns=['Intercept', 'normalized_mortgage_rates', 'normalized_housing_price_index', 'normalized_population'])\n",
    "\n",
    "# Use the entire dataset as both X and endog\n",
    "X_train = X_df\n",
    "y_train = normalized_Taxes_Levied\n",
    "\n",
    "# Create a multilinear regression model with heteroscedasticity\n",
    "model = sm.OLS(endog=y_train, exog=X_train).fit(cov_type='HC3')  # Use 'HC3' for heteroskedasticity-robust standard errors\n",
    "\n",
    "# Fit the model to the entire dataset\n",
    "results = model.summary()\n",
    "print(results)\n",
    "\n",
    "# Plot scatter plots for each variable against the dependent variable with regression lines\n",
    "variables = ['normalized_mortgage_rates', 'normalized_housing_price_index', 'normalized_population']\n",
    "titles = [\n",
    "    'Scatter Plot of Normalized Mortgage Rates Against Normalized Taxes Levied',\n",
    "    'Scatter Plot of Normalized Florida Housing Price Index Against Normalized Taxes Levied',\n",
    "    'Scatter Plot of Normalized Florida Resident Population Against Normalized Taxes Levied'\n",
    "]\n",
    "\n",
    "for variable, title in zip(variables, titles):\n",
    "    plt.figure(figsize=(8, 6))\n",
    "    \n",
    "    # Scatter plot\n",
    "    sns.scatterplot(x=X_train[variable], y=y_train)\n",
    "    \n",
    "    # Regression line\n",
    "    sns.regplot(x=X_train[variable], y=y_train, ci=None, line_kws={'color': 'red'})\n",
    "    \n",
    "    plt.title(title)\n",
    "    plt.xlabel(variable)\n",
    "    plt.ylabel('Normalized Taxes Levied')\n",
    "    plt.show()\n"
   ]
  }
 ],
 "metadata": {
  "kernelspec": {
   "display_name": "Python 3 (ipykernel)",
   "language": "python",
   "name": "python3"
  },
  "language_info": {
   "codemirror_mode": {
    "name": "ipython",
    "version": 3
   },
   "file_extension": ".py",
   "mimetype": "text/x-python",
   "name": "python",
   "nbconvert_exporter": "python",
   "pygments_lexer": "ipython3",
   "version": "3.10.13"
  }
 },
 "nbformat": 4,
 "nbformat_minor": 2
}
